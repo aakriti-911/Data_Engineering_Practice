{
 "cells": [
  {
   "cell_type": "code",
   "execution_count": null,
   "id": "68e8774f-9fd3-4b11-9764-39d1ed8a7a69",
   "metadata": {},
   "outputs": [],
   "source": [
    "# 1. Create a table with PostgreSQL"
   ]
  },
  {
   "cell_type": "code",
   "execution_count": 1,
   "id": "06a72a68-9695-48a3-8ab7-0c73844731de",
   "metadata": {},
   "outputs": [
    {
     "name": "stdout",
     "output_type": "stream",
     "text": [
      "Collecting psycopg2\n",
      "  Downloading psycopg2-2.9.9-cp311-cp311-win_amd64.whl.metadata (4.5 kB)\n",
      "Downloading psycopg2-2.9.9-cp311-cp311-win_amd64.whl (1.2 MB)\n",
      "   ---------------------------------------- 0.0/1.2 MB ? eta -:--:--\n",
      "   ---------------------------------------- 0.0/1.2 MB ? eta -:--:--\n",
      "   ---------------------------------------- 0.0/1.2 MB ? eta -:--:--\n",
      "   - -------------------------------------- 0.0/1.2 MB 262.6 kB/s eta 0:00:05\n",
      "   ------ --------------------------------- 0.2/1.2 MB 1.2 MB/s eta 0:00:01\n",
      "   ---------------------- ----------------- 0.6/1.2 MB 3.4 MB/s eta 0:00:01\n",
      "   ---------------------------------------- 1.2/1.2 MB 4.9 MB/s eta 0:00:00\n",
      "Installing collected packages: psycopg2\n",
      "Successfully installed psycopg2-2.9.9\n"
     ]
    }
   ],
   "source": [
    "!pip install psycopg2"
   ]
  },
  {
   "cell_type": "code",
   "execution_count": 2,
   "id": "90e58d66-e529-42fb-990d-07f165907dbb",
   "metadata": {},
   "outputs": [],
   "source": [
    "import psycopg2"
   ]
  },
  {
   "cell_type": "code",
   "execution_count": 3,
   "id": "e4c2bec3-6fac-480c-b769-dc03a3e83821",
   "metadata": {},
   "outputs": [],
   "source": [
    "# Create a connection to the Database"
   ]
  },
  {
   "cell_type": "code",
   "execution_count": 7,
   "id": "7c273da6-4cee-45ab-98e5-5a3f227104c6",
   "metadata": {},
   "outputs": [],
   "source": [
    "try:\n",
    "        conn = psycopg2.connect(\"host=localhost dbname=postgres user=postgres password=Light@123\")\n",
    "except psycopg2.Error as e:\n",
    "    print(\"Error : Could not make connection with the Postgres Database\")\n",
    "    print(e)"
   ]
  },
  {
   "cell_type": "code",
   "execution_count": 8,
   "id": "dfd9c05e-1fc7-4917-b742-98523ebb5f1a",
   "metadata": {},
   "outputs": [],
   "source": [
    "# Use the connection to get a cursor that can be used to run queries"
   ]
  },
  {
   "cell_type": "code",
   "execution_count": 13,
   "id": "3f542d4a-9e44-4e7d-801c-1f77dc17266f",
   "metadata": {},
   "outputs": [],
   "source": [
    "try:\n",
    "    cur = conn.cursor()\n",
    "except psycopg2.Error as e:\n",
    "    print(\"Error : Could not get the cursor to the database\")\n",
    "    print(e)"
   ]
  },
  {
   "cell_type": "code",
   "execution_count": 10,
   "id": "cd77f7ea-9422-4c56-a007-91233016e324",
   "metadata": {},
   "outputs": [],
   "source": [
    "# Set automatic commit to e true so that each action is committed without having to call conn.commit() after each command."
   ]
  },
  {
   "cell_type": "code",
   "execution_count": 14,
   "id": "ea6e9bc6-7a16-4e02-bdac-c0f889170a9c",
   "metadata": {},
   "outputs": [],
   "source": [
    "conn.set_session(autocommit=True)"
   ]
  },
  {
   "cell_type": "code",
   "execution_count": 12,
   "id": "8590ded4-6dd0-4740-85ce-66f1004f5f70",
   "metadata": {},
   "outputs": [],
   "source": [
    "# Create a database to do the work in ;; to check if it got created open sql shell on local -> \\l"
   ]
  },
  {
   "cell_type": "code",
   "execution_count": 16,
   "id": "94aa1eb9-8be0-467c-8863-809fa27bd2c2",
   "metadata": {},
   "outputs": [],
   "source": [
    "try:\n",
    "    cur.execute(\"create database myfirstdb\")\n",
    "except psycopg2.Error as e:\n",
    "    print(\"Error : Could not create the database\")\n",
    "    print(e)"
   ]
  },
  {
   "cell_type": "code",
   "execution_count": null,
   "id": "2e76d33f-1e74-4e8e-a9ee-fbfbad389a9a",
   "metadata": {},
   "outputs": [],
   "source": [
    "#Add the database name in the connect statement. Let's close the connection to the default database, reconnect to the myfirstdb database."
   ]
  },
  {
   "cell_type": "code",
   "execution_count": 17,
   "id": "6d7e60dd-922f-449b-84f9-229b261c4332",
   "metadata": {},
   "outputs": [],
   "source": [
    "try:\n",
    "    conn.close()\n",
    "except psycopg2.Error as e:\n",
    "    print(e)\n",
    "\n",
    "try:\n",
    "    conn = psycopg2.connect(\"host=localhost dbname=myfirstdb user=postgres password=Light@123\")\n",
    "except psycopg2.Error as e:\n",
    "    print(\"Error : Could not make connection with the Postgres Database\")\n",
    "    print(e)\n",
    "\n",
    "try:\n",
    "    cur = conn.cursor()\n",
    "except psycopg2.Error as e:\n",
    "    print(\"Error : Could not get the cursor to the database\")\n",
    "    print(e)\n",
    "\n",
    "conn.set_session(autocommit=True)"
   ]
  },
  {
   "cell_type": "code",
   "execution_count": 18,
   "id": "71e1e7f5-c332-49c6-99c5-b8ba87a15ac6",
   "metadata": {},
   "outputs": [],
   "source": [
    "# create table students with columns (student_id, name, age, gender, subject, marks)"
   ]
  },
  {
   "cell_type": "code",
   "execution_count": 21,
   "id": "c7aa4d7d-a563-40cf-a01d-7150fd3d4ace",
   "metadata": {},
   "outputs": [],
   "source": [
    "try:\n",
    "    cur.execute(\"create table if not exists students (student_id int, name varchar, age varchar, gender varchar, subject varchar, marks int);\")\n",
    "except psycopg2.Error as e:\n",
    "    print(\"Error : Could not create the table\")\n",
    "    print(e)"
   ]
  },
  {
   "cell_type": "code",
   "execution_count": 22,
   "id": "ee9cdf23-a4b1-4cb5-9270-817c86d12bfa",
   "metadata": {},
   "outputs": [],
   "source": [
    " # to see the table on sql shell : first enter myfirstdb using \\c myfirstdb; then to display tables : \\dt"
   ]
  },
  {
   "cell_type": "code",
   "execution_count": null,
   "id": "1794a763-729e-487e-a412-d678c29ff3d2",
   "metadata": {},
   "outputs": [],
   "source": [
    "# insert some values into the table"
   ]
  },
  {
   "cell_type": "code",
   "execution_count": 24,
   "id": "6c547700-5d49-4341-b71c-6f4db99f2dac",
   "metadata": {},
   "outputs": [],
   "source": [
    "try:\n",
    "    cur.execute(\"INSERT INTO students (student_id, name, age, gender, subject, marks) \\\n",
    "    VALUES(%s, %s, %s, %s, %s, %s)\", \\\n",
    "    (1, 'Raj', 23, 'Male', 'python', 85))\n",
    "except psycopg2.Error as e:\n",
    "    print(\"Error : Could not create the table\")\n",
    "    print(e)"
   ]
  },
  {
   "cell_type": "code",
   "execution_count": 25,
   "id": "17e777f4-8fce-455d-80f4-4ee12eb87d91",
   "metadata": {},
   "outputs": [],
   "source": [
    "try:\n",
    "    cur.execute(\"INSERT INTO students (student_id, name, age, gender, subject, marks) \\\n",
    "    VALUES(%s, %s, %s, %s, %s, %s)\", \\\n",
    "    (2, 'Priya', 22, 'Female', 'python', 86))\n",
    "except psycopg2.Error as e:\n",
    "    print(\"Error : Could not create the table\")\n",
    "    print(e)"
   ]
  },
  {
   "cell_type": "code",
   "execution_count": 26,
   "id": "0d4ce917-e211-4363-baf7-4399d9e936b4",
   "metadata": {},
   "outputs": [],
   "source": [
    "# validate your data was inserted into the tables "
   ]
  },
  {
   "cell_type": "code",
   "execution_count": 28,
   "id": "7507e0b7-59c4-45eb-a29a-4a187733e63a",
   "metadata": {},
   "outputs": [
    {
     "name": "stdout",
     "output_type": "stream",
     "text": [
      "(1, 'Raj', '23', 'Male', 'python', 85)\n",
      "(2, 'Priya', '22', 'Female', 'python', 86)\n"
     ]
    }
   ],
   "source": [
    "try:\n",
    "    cur.execute(\"SELECT * FROM students;\")\n",
    "except psycopg2.Error as e:\n",
    "    print(\"Error : Could not fetch the data\")\n",
    "    print(e)\n",
    "\n",
    "row = cur.fetchone()\n",
    "while row:\n",
    "    print(row)\n",
    "    row = cur.fetchone()"
   ]
  },
  {
   "cell_type": "code",
   "execution_count": 29,
   "id": "7f397d81-3c0a-4423-bb42-57c2bc8924db",
   "metadata": {},
   "outputs": [],
   "source": [
    "# And finally close your cusror and connection"
   ]
  },
  {
   "cell_type": "code",
   "execution_count": 30,
   "id": "70cf525b-abc3-4c69-b827-a927184a32d0",
   "metadata": {},
   "outputs": [],
   "source": [
    "cur.close()\n",
    "conn.close()"
   ]
  }
 ],
 "metadata": {
  "kernelspec": {
   "display_name": "Python 3 (ipykernel)",
   "language": "python",
   "name": "python3"
  },
  "language_info": {
   "codemirror_mode": {
    "name": "ipython",
    "version": 3
   },
   "file_extension": ".py",
   "mimetype": "text/x-python",
   "name": "python",
   "nbconvert_exporter": "python",
   "pygments_lexer": "ipython3",
   "version": "3.11.7"
  }
 },
 "nbformat": 4,
 "nbformat_minor": 5
}
